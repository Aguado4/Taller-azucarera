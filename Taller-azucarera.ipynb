{
 "cells": [
  {
   "cell_type": "markdown",
   "id": "0547b037",
   "metadata": {},
   "source": [
    "# Libs"
   ]
  },
  {
   "cell_type": "markdown",
   "id": "52a56fad",
   "metadata": {},
   "source": [
    "# Introducción"
   ]
  },
  {
   "cell_type": "markdown",
   "id": "44cc2a3b",
   "metadata": {},
   "source": [
    "# Modelo de Regresión"
   ]
  },
  {
   "cell_type": "markdown",
   "id": "99279ee3",
   "metadata": {},
   "source": [
    "## Análisis Exploratorio de Datos (EDA)"
   ]
  },
  {
   "cell_type": "markdown",
   "id": "057c84d0",
   "metadata": {},
   "source": [
    "## Desarrollo de Modelos"
   ]
  },
  {
   "cell_type": "markdown",
   "id": "6bd3bbf9",
   "metadata": {},
   "source": [
    "## Validación y Evaluación"
   ]
  },
  {
   "cell_type": "markdown",
   "id": "458e98f9",
   "metadata": {},
   "source": [
    "# Modelo de Clasificación"
   ]
  },
  {
   "cell_type": "markdown",
   "id": "3daf915b",
   "metadata": {},
   "source": [
    "## Creación de Categorías"
   ]
  },
  {
   "cell_type": "markdown",
   "id": "59433600",
   "metadata": {},
   "source": [
    "## Desarrollo de Modelos de Clasificación"
   ]
  },
  {
   "cell_type": "markdown",
   "id": "76c98edf",
   "metadata": {},
   "source": [
    "## Validación y Evaluación"
   ]
  },
  {
   "cell_type": "markdown",
   "id": "5d84234f",
   "metadata": {},
   "source": [
    "# Conclusiones"
   ]
  },
  {
   "cell_type": "markdown",
   "id": "b85e5a02",
   "metadata": {},
   "source": [
    "# Innovación y Propuesta de Mejora"
   ]
  }
 ],
 "metadata": {
  "language_info": {
   "name": "python"
  }
 },
 "nbformat": 4,
 "nbformat_minor": 5
}
